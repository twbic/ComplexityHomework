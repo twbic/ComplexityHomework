{
 "cells": [
  {
   "cell_type": "markdown",
   "metadata": {},
   "source": [
    "# Scale-Free Networks\n",
    "\n",
    "Code examples from [Think Complexity, 2nd edition](https://thinkcomplex.com).\n",
    "\n",
    "Copyright 2016 Allen Downey, [MIT License](http://opensource.org/licenses/MIT)"
   ]
  },
  {
   "cell_type": "code",
   "execution_count": 1,
   "metadata": {},
   "outputs": [],
   "source": [
    "from os.path import basename, exists\n",
    "\n",
    "def download(url):\n",
    "    filename = basename(url)\n",
    "    if not exists(filename):\n",
    "        from urllib.request import urlretrieve\n",
    "        local, _ = urlretrieve(url, filename)\n",
    "        print('Downloaded ' + local)\n",
    "    \n",
    "download('https://github.com/AllenDowney/ThinkComplexity2/raw/master/notebooks/utils.py')"
   ]
  },
  {
   "cell_type": "code",
   "execution_count": 67,
   "metadata": {},
   "outputs": [],
   "source": [
    "import matplotlib.pyplot as plt\n",
    "import networkx as nx\n",
    "import numpy as np\n",
    "import seaborn as sns\n",
    "\n",
    "from utils import decorate, savefig\n",
    "\n",
    "# Set the random seed so the notebook \n",
    "# produces the same results every time.\n",
    "np.random.seed(524)"
   ]
  },
  {
   "cell_type": "code",
   "execution_count": 3,
   "metadata": {},
   "outputs": [],
   "source": [
    "# make a directory for figures\n",
    "!mkdir -p figs"
   ]
  },
  {
   "cell_type": "markdown",
   "metadata": {},
   "source": [
    "## Facebook data"
   ]
  },
  {
   "cell_type": "markdown",
   "metadata": {},
   "source": [
    "The following function reads a file with one edge per line, specified by two integer node IDs."
   ]
  },
  {
   "cell_type": "code",
   "execution_count": 4,
   "metadata": {},
   "outputs": [],
   "source": [
    "def read_graph(filename):\n",
    "    G = nx.Graph()\n",
    "    array = np.loadtxt(filename, dtype=int)\n",
    "    G.add_edges_from(array)\n",
    "    return G"
   ]
  },
  {
   "cell_type": "markdown",
   "metadata": {},
   "source": [
    "We'll read the Facecook data downloaded from [SNAP](https://snap.stanford.edu/data/egonets-Facebook.html)"
   ]
  },
  {
   "cell_type": "code",
   "execution_count": 5,
   "metadata": {},
   "outputs": [
    {
     "name": "stdout",
     "output_type": "stream",
     "text": [
      "Downloaded facebook_combined.txt.gz\n"
     ]
    }
   ],
   "source": [
    "download('https://snap.stanford.edu/data/facebook_combined.txt.gz')"
   ]
  },
  {
   "cell_type": "code",
   "execution_count": 6,
   "metadata": {},
   "outputs": [
    {
     "data": {
      "text/plain": [
       "(4039, 88234)"
      ]
     },
     "execution_count": 6,
     "metadata": {},
     "output_type": "execute_result"
    }
   ],
   "source": [
    "fb = read_graph('facebook_combined.txt.gz')\n",
    "n = len(fb)\n",
    "m = len(fb.edges())\n",
    "n, m"
   ]
  },
  {
   "cell_type": "markdown",
   "metadata": {},
   "source": [
    "With larger graphs, it takes too long to compute clustering coefficients and path lengths, but we can estimate them by sampling.  NetworkX provides a function in its approximation module that estimates the clustering coefficient:"
   ]
  },
  {
   "cell_type": "code",
   "execution_count": 7,
   "metadata": {},
   "outputs": [],
   "source": [
    "from networkx.algorithms.approximation import average_clustering"
   ]
  },
  {
   "cell_type": "markdown",
   "metadata": {},
   "source": [
    "And I've written a function that estimates the average path length."
   ]
  },
  {
   "cell_type": "code",
   "execution_count": 70,
   "metadata": {},
   "outputs": [],
   "source": [
    "def sample_path_lengths(G, nodes=None, trials=1000):\n",
    "    \"\"\"Choose random pairs of nodes and compute the path length between them.\n",
    "\n",
    "    G: Graph\n",
    "    nodes: list of nodes to choose from\n",
    "    trials: number of pairs to choose\n",
    "\n",
    "    returns: list of path lengths\n",
    "    \"\"\"\n",
    "    if nodes is None:\n",
    "        nodes = list(G)\n",
    "    else:\n",
    "        nodes = list(nodes)\n",
    "        \n",
    "    pairs = np.random.choice(nodes, (trials, 2))\n",
    "    \n",
    "    lengths = []\n",
    "    for pair in pairs:\n",
    "        \n",
    "        try:\n",
    "            lengths.append(nx.shortest_path_length(G, *pair))\n",
    "        except:\n",
    "            pass\n",
    "\n",
    "    return lengths"
   ]
  },
  {
   "cell_type": "code",
   "execution_count": 9,
   "metadata": {},
   "outputs": [],
   "source": [
    "def estimate_path_length(G, nodes=None, trials=1000):\n",
    "    return np.mean(sample_path_lengths(G, nodes, trials))"
   ]
  },
  {
   "cell_type": "markdown",
   "metadata": {},
   "source": [
    "The average clustering coefficient is high."
   ]
  },
  {
   "cell_type": "code",
   "execution_count": 10,
   "metadata": {},
   "outputs": [
    {
     "data": {
      "text/plain": [
       "0.616"
      ]
     },
     "execution_count": 10,
     "metadata": {},
     "output_type": "execute_result"
    }
   ],
   "source": [
    "C = average_clustering(fb)\n",
    "C"
   ]
  },
  {
   "cell_type": "markdown",
   "metadata": {},
   "source": [
    "The average path length is low."
   ]
  },
  {
   "cell_type": "code",
   "execution_count": 11,
   "metadata": {},
   "outputs": [
    {
     "data": {
      "text/plain": [
       "3.717"
      ]
     },
     "execution_count": 11,
     "metadata": {},
     "output_type": "execute_result"
    }
   ],
   "source": [
    "L = estimate_path_length(fb)\n",
    "L"
   ]
  },
  {
   "cell_type": "markdown",
   "metadata": {},
   "source": [
    "## WS Graph"
   ]
  },
  {
   "cell_type": "markdown",
   "metadata": {},
   "source": [
    "Next I'll construct a WS graph with the same number of nodes and average degree as the Facebook network:"
   ]
  },
  {
   "cell_type": "code",
   "execution_count": 12,
   "metadata": {},
   "outputs": [
    {
     "data": {
      "text/plain": [
       "44"
      ]
     },
     "execution_count": 12,
     "metadata": {},
     "output_type": "execute_result"
    }
   ],
   "source": [
    "n = len(fb)\n",
    "m = len(fb.edges())\n",
    "k = int(round(2*m/n))\n",
    "k"
   ]
  },
  {
   "cell_type": "markdown",
   "metadata": {},
   "source": [
    "With `p=0` we get a ring lattice.\n",
    "\n",
    "The number of edges is a little bigger than in the dataset because we have to round `k` to an integer."
   ]
  },
  {
   "cell_type": "code",
   "execution_count": 13,
   "metadata": {},
   "outputs": [
    {
     "data": {
      "text/plain": [
       "(4039, 88858)"
      ]
     },
     "execution_count": 13,
     "metadata": {},
     "output_type": "execute_result"
    }
   ],
   "source": [
    "lattice = nx.watts_strogatz_graph(n, k, p=0)\n",
    "len(lattice), len(lattice.edges())"
   ]
  },
  {
   "cell_type": "markdown",
   "metadata": {},
   "source": [
    "The clustering coefficient is a little higher than in the dataset."
   ]
  },
  {
   "cell_type": "code",
   "execution_count": 14,
   "metadata": {},
   "outputs": [
    {
     "data": {
      "text/plain": [
       "(0.616, 0.725)"
      ]
     },
     "execution_count": 14,
     "metadata": {},
     "output_type": "execute_result"
    }
   ],
   "source": [
    "C, average_clustering(lattice)"
   ]
  },
  {
   "cell_type": "markdown",
   "metadata": {},
   "source": [
    "And the path length is much higher."
   ]
  },
  {
   "cell_type": "code",
   "execution_count": 15,
   "metadata": {},
   "outputs": [
    {
     "data": {
      "text/plain": [
       "(3.717, 47.088)"
      ]
     },
     "execution_count": 15,
     "metadata": {},
     "output_type": "execute_result"
    }
   ],
   "source": [
    "L, estimate_path_length(lattice)"
   ]
  },
  {
   "cell_type": "markdown",
   "metadata": {},
   "source": [
    "With `p=1` we get a random graph."
   ]
  },
  {
   "cell_type": "code",
   "execution_count": 16,
   "metadata": {},
   "outputs": [],
   "source": [
    "random_graph = nx.watts_strogatz_graph(n, k, p=1)"
   ]
  },
  {
   "cell_type": "markdown",
   "metadata": {},
   "source": [
    "The clustering coefficient is small."
   ]
  },
  {
   "cell_type": "code",
   "execution_count": 17,
   "metadata": {},
   "outputs": [
    {
     "data": {
      "text/plain": [
       "(0.616, 0.01)"
      ]
     },
     "execution_count": 17,
     "metadata": {},
     "output_type": "execute_result"
    }
   ],
   "source": [
    "C, average_clustering(random_graph)"
   ]
  },
  {
   "cell_type": "markdown",
   "metadata": {},
   "source": [
    "And the path lengths are very small."
   ]
  },
  {
   "cell_type": "code",
   "execution_count": 18,
   "metadata": {},
   "outputs": [
    {
     "data": {
      "text/plain": [
       "(3.717, 2.618)"
      ]
     },
     "execution_count": 18,
     "metadata": {},
     "output_type": "execute_result"
    }
   ],
   "source": [
    "L, estimate_path_length(random_graph)"
   ]
  },
  {
   "cell_type": "markdown",
   "metadata": {},
   "source": [
    "By trial and error, I found that `p=0.05` yields a graph with about the right values for `C` and `L`."
   ]
  },
  {
   "cell_type": "code",
   "execution_count": 19,
   "metadata": {},
   "outputs": [],
   "source": [
    "ws = nx.watts_strogatz_graph(n, k, 0.05, seed=15)"
   ]
  },
  {
   "cell_type": "markdown",
   "metadata": {},
   "source": [
    "The clustering coefficient is a little higher than in the data."
   ]
  },
  {
   "cell_type": "code",
   "execution_count": 20,
   "metadata": {},
   "outputs": [
    {
     "data": {
      "text/plain": [
       "(0.616, 0.631)"
      ]
     },
     "execution_count": 20,
     "metadata": {},
     "output_type": "execute_result"
    }
   ],
   "source": [
    "C, average_clustering(ws)"
   ]
  },
  {
   "cell_type": "markdown",
   "metadata": {},
   "source": [
    "And the path length is a little lower."
   ]
  },
  {
   "cell_type": "code",
   "execution_count": 21,
   "metadata": {},
   "outputs": [
    {
     "data": {
      "text/plain": [
       "(3.717, 3.264)"
      ]
     },
     "execution_count": 21,
     "metadata": {},
     "output_type": "execute_result"
    }
   ],
   "source": [
    "L, estimate_path_length(ws)"
   ]
  },
  {
   "cell_type": "markdown",
   "metadata": {},
   "source": [
    "So that seems good so far."
   ]
  },
  {
   "cell_type": "markdown",
   "metadata": {
    "collapsed": true
   },
   "source": [
    "## Degree\n",
    "\n",
    "But let's look at the degree distribution.\n",
    "\n",
    "The following function returns a list of degrees, one for each node:"
   ]
  },
  {
   "cell_type": "code",
   "execution_count": 22,
   "metadata": {},
   "outputs": [],
   "source": [
    "def degrees(G):\n",
    "    \"\"\"List of degrees for nodes in `G`.\n",
    "    \n",
    "    G: Graph object\n",
    "    \n",
    "    returns: list of int\n",
    "    \"\"\"\n",
    "    return [G.degree(u) for u in G]"
   ]
  },
  {
   "cell_type": "markdown",
   "metadata": {},
   "source": [
    "The average degree in the WS model is about right."
   ]
  },
  {
   "cell_type": "code",
   "execution_count": 23,
   "metadata": {},
   "outputs": [
    {
     "data": {
      "text/plain": [
       "(43.69101262688784, 44.0)"
      ]
     },
     "execution_count": 23,
     "metadata": {},
     "output_type": "execute_result"
    }
   ],
   "source": [
    "np.mean(degrees(fb)), np.mean(degrees(ws))"
   ]
  },
  {
   "cell_type": "markdown",
   "metadata": {},
   "source": [
    "But the standard deviation isn't even close:"
   ]
  },
  {
   "cell_type": "code",
   "execution_count": 24,
   "metadata": {},
   "outputs": [
    {
     "data": {
      "text/plain": [
       "(52.41411556737521, 1.4309215628189869)"
      ]
     },
     "execution_count": 24,
     "metadata": {},
     "output_type": "execute_result"
    }
   ],
   "source": [
    "np.std(degrees(fb)), np.std(degrees(ws))"
   ]
  },
  {
   "cell_type": "markdown",
   "metadata": {},
   "source": [
    "To see what's going on, we need to look at the whole distribution.\n",
    "\n",
    "I'll start with a very small graph:"
   ]
  },
  {
   "cell_type": "code",
   "execution_count": 25,
   "metadata": {},
   "outputs": [
    {
     "data": {
      "image/png": "[encoded data removed]",
      "text/plain": [
       "<Figure size 432x288 with 1 Axes>"
      ]
     },
     "metadata": {},
     "output_type": "display_data"
    }
   ],
   "source": [
    "G = nx.Graph()\n",
    "G.add_edge(1, 0)\n",
    "G.add_edge(2, 0)\n",
    "G.add_edge(3, 0)\n",
    "nx.draw(G)"
   ]
  },
  {
   "cell_type": "markdown",
   "metadata": {},
   "source": [
    "Here's what the list of degrees looks like for this graph:"
   ]
  },
  {
   "cell_type": "code",
   "execution_count": 26,
   "metadata": {},
   "outputs": [
    {
     "data": {
      "text/plain": [
       "[1, 3, 1, 1]"
      ]
     },
     "execution_count": 26,
     "metadata": {},
     "output_type": "execute_result"
    }
   ],
   "source": [
    "degrees(G)"
   ]
  },
  {
   "cell_type": "markdown",
   "metadata": {},
   "source": [
    "To compute the degree distribution, I'll use the `Pmf` class from `empiricaldist`"
   ]
  },
  {
   "cell_type": "code",
   "execution_count": 27,
   "metadata": {},
   "outputs": [],
   "source": [
    "try:\n",
    "    import empiricaldist\n",
    "except ImportError:\n",
    "    !pip install empiricaldist"
   ]
  },
  {
   "cell_type": "markdown",
   "metadata": {},
   "source": [
    "A `Pmf` object maps from each degree to the fraction of nodes with that degree."
   ]
  },
  {
   "cell_type": "code",
   "execution_count": 28,
   "metadata": {},
   "outputs": [
    {
     "data": {
      "text/html": [
       "<div>\n",
       "<style scoped>\n",
       "    .dataframe tbody tr th:only-of-type {\n",
       "        vertical-align: middle;\n",
       "    }\n",
       "\n",
       "    .dataframe tbody tr th {\n",
       "        vertical-align: top;\n",
       "    }\n",
       "\n",
       "    .dataframe thead th {\n",
       "        text-align: right;\n",
       "    }\n",
       "</style>\n",
       "<table border=\"1\" class=\"dataframe\">\n",
       "  <thead>\n",
       "    <tr style=\"text-align: right;\">\n",
       "      <th></th>\n",
       "      <th>probs</th>\n",
       "    </tr>\n",
       "  </thead>\n",
       "  <tbody>\n",
       "    <tr>\n",
       "      <th>1</th>\n",
       "      <td>0.75</td>\n",
       "    </tr>\n",
       "    <tr>\n",
       "      <th>3</th>\n",
       "      <td>0.25</td>\n",
       "    </tr>\n",
       "  </tbody>\n",
       "</table>\n",
       "</div>"
      ],
      "text/plain": [
       "1    0.75\n",
       "3    0.25\n",
       "Name: , dtype: float64"
      ]
     },
     "execution_count": 28,
     "metadata": {},
     "output_type": "execute_result"
    }
   ],
   "source": [
    "from empiricaldist import Pmf\n",
    "\n",
    "pmf = Pmf.from_seq(degrees(G))\n",
    "pmf"
   ]
  },
  {
   "cell_type": "markdown",
   "metadata": {},
   "source": [
    "75% of the nodes have degree 1; 25% have degree 3.\n",
    "\n",
    "We can visualize the distribution as a histogram:"
   ]
  },
  {
   "cell_type": "code",
   "execution_count": 29,
   "metadata": {},
   "outputs": [
    {
     "data": {
      "image/png": "[encoded data removed]",
      "text/plain": [
       "<Figure size 432x288 with 1 Axes>"
      ]
     },
     "metadata": {
      "needs_background": "light"
     },
     "output_type": "display_data"
    }
   ],
   "source": [
    "pmf.bar()\n",
    "decorate(xlabel='Degree',\n",
    "         ylabel='Pmf')"
   ]
  },
  {
   "cell_type": "markdown",
   "metadata": {},
   "source": [
    "And we can use the `Pmf` to compute mean and standard deviation:"
   ]
  },
  {
   "cell_type": "code",
   "execution_count": 30,
   "metadata": {},
   "outputs": [
    {
     "data": {
      "text/plain": [
       "(43.69101262688785, 52.41411556737521)"
      ]
     },
     "execution_count": 30,
     "metadata": {},
     "output_type": "execute_result"
    }
   ],
   "source": [
    "pmf_fb = Pmf.from_seq(degrees(fb))\n",
    "pmf_fb.mean(), pmf_fb.std()"
   ]
  },
  {
   "cell_type": "code",
   "execution_count": 31,
   "metadata": {},
   "outputs": [
    {
     "data": {
      "text/plain": [
       "(44.00000000000001, 1.4309215628189869)"
      ]
     },
     "execution_count": 31,
     "metadata": {},
     "output_type": "execute_result"
    }
   ],
   "source": [
    "pmf_ws = Pmf.from_seq(degrees(ws))\n",
    "pmf_ws.mean(), pmf_ws.std()"
   ]
  },
  {
   "cell_type": "markdown",
   "metadata": {},
   "source": [
    "We can also use the `Pmf` to look up the fraction of nodes with exactly 1 neighbor."
   ]
  },
  {
   "cell_type": "code",
   "execution_count": 32,
   "metadata": {},
   "outputs": [
    {
     "data": {
      "text/plain": [
       "(0.018568952711067097, 0)"
      ]
     },
     "execution_count": 32,
     "metadata": {},
     "output_type": "execute_result"
    }
   ],
   "source": [
    "pmf_fb(1), pmf_ws(1)"
   ]
  },
  {
   "cell_type": "markdown",
   "metadata": {},
   "source": [
    "Here's what the degree distributions look like for the Facebook data and the WS model.  They don't resemble each other at all."
   ]
  },
  {
   "cell_type": "code",
   "execution_count": 33,
   "metadata": {},
   "outputs": [
    {
     "name": "stdout",
     "output_type": "stream",
     "text": [
      "Saving figure to file figs/chap04-1\n"
     ]
    },
    {
     "data": {
      "image/png": "[encoded data removed]",
      "text/plain": [
       "<Figure size 576x288 with 2 Axes>"
      ]
     },
     "metadata": {
      "needs_background": "light"
     },
     "output_type": "display_data"
    }
   ],
   "source": [
    "plt.figure(figsize=(8,4))\n",
    "\n",
    "plt.subplot(1,2,1)\n",
    "pmf_fb.plot(label='Facebook', color='C0')\n",
    "decorate(xlabel='Degree', ylabel='PMF')\n",
    "\n",
    "plt.subplot(1,2,2)\n",
    "pmf_ws.plot(label='WS graph', color='C1')\n",
    "decorate(xlabel='Degree')\n",
    "\n",
    "savefig('figs/chap04-1')"
   ]
  },
  {
   "cell_type": "markdown",
   "metadata": {},
   "source": [
    "We can get a better view of the Facebook data by plotting the PMF on a log-log scale.\n",
    "\n",
    "The result suggests that the degree distribution follows a power law, at least for values larger than 10 or so.\n",
    "\n",
    "The log-log scale doesn't help the WS graph."
   ]
  },
  {
   "cell_type": "code",
   "execution_count": 34,
   "metadata": {},
   "outputs": [
    {
     "name": "stdout",
     "output_type": "stream",
     "text": [
      "Saving figure to file figs/chap04-2\n"
     ]
    },
    {
     "data": {
      "image/png": "[encoded data removed]",
      "text/plain": [
       "<Figure size 576x288 with 2 Axes>"
      ]
     },
     "metadata": {
      "needs_background": "light"
     },
     "output_type": "display_data"
    }
   ],
   "source": [
    "plt.figure(figsize=(8,4))\n",
    "options = dict(ls='', marker='.')\n",
    "\n",
    "plt.subplot(1,2,1)\n",
    "plt.plot([20, 1000], [5e-2, 2e-4], color='gray', linestyle='dashed')\n",
    "\n",
    "pmf_fb.plot(label='Facebook', color='C0', **options)\n",
    "decorate(xscale='log', yscale='log',\n",
    "         xlabel='Degree', ylabel='PMF')\n",
    "\n",
    "plt.subplot(1,2,2)\n",
    "pmf_ws.plot(label='WS graph', color='C1', **options)\n",
    "decorate(xlim=[35, 55], \n",
    "         xscale='log', yscale='log',\n",
    "         xlabel='Degree')\n",
    "\n",
    "savefig('figs/chap04-2')"
   ]
  },
  {
   "cell_type": "markdown",
   "metadata": {},
   "source": [
    "The discrepancy between the actual degree distribution and the WS model is the motivation for the BA model."
   ]
  },
  {
   "cell_type": "markdown",
   "metadata": {},
   "source": [
    "## BA model\n",
    "\n",
    "Here's a simplified version of [the NetworkX function that generates BA graphs](https://github.com/networkx/networkx/blob/master/networkx/generators/random_graphs.py)."
   ]
  },
  {
   "cell_type": "code",
   "execution_count": 35,
   "metadata": {},
   "outputs": [],
   "source": [
    "# modified version of the NetworkX implementation from\n",
    "# https://github.com/networkx/networkx/blob/master/networkx/generators/random_graphs.py\n",
    "\n",
    "import random\n",
    "\n",
    "def barabasi_albert_graph(n, k, seed=None):\n",
    "    \"\"\"Constructs a BA graph.\n",
    "    \n",
    "    n: number of nodes\n",
    "    k: number of edges for each new node\n",
    "    seed: random seen\n",
    "    \"\"\"\n",
    "    if seed is not None:\n",
    "        random.seed(seed)\n",
    "    \n",
    "    G = nx.empty_graph(k)\n",
    "    targets = set(range(k))\n",
    "    repeated_nodes = []\n",
    "\n",
    "    for source in range(k, n):\n",
    "\n",
    "        G.add_edges_from(zip([source]*k, targets))\n",
    "\n",
    "        repeated_nodes.extend(targets)\n",
    "        repeated_nodes.extend([source] * k)\n",
    "\n",
    "        targets = _random_subset(repeated_nodes, k)\n",
    "\n",
    "    return G"
   ]
  },
  {
   "cell_type": "markdown",
   "metadata": {},
   "source": [
    "And here's the function that generates a random subset without repetition."
   ]
  },
  {
   "cell_type": "code",
   "execution_count": 36,
   "metadata": {},
   "outputs": [],
   "source": [
    "def _random_subset(repeated_nodes, k):\n",
    "    \"\"\"Select a random subset of nodes without repeating.\n",
    "    \n",
    "    repeated_nodes: list of nodes\n",
    "    k: size of set\n",
    "    \n",
    "    returns: set of nodes\n",
    "    \"\"\"\n",
    "    targets = set()\n",
    "    while len(targets) < k:\n",
    "        x = random.choice(repeated_nodes)\n",
    "        targets.add(x)\n",
    "    return targets"
   ]
  },
  {
   "cell_type": "markdown",
   "metadata": {},
   "source": [
    "I'll generate a BA graph with the same number of nodes and edges as the Facebook data:"
   ]
  },
  {
   "cell_type": "code",
   "execution_count": 37,
   "metadata": {},
   "outputs": [
    {
     "data": {
      "text/plain": [
       "(4039, 88234, 22)"
      ]
     },
     "execution_count": 37,
     "metadata": {},
     "output_type": "execute_result"
    }
   ],
   "source": [
    "n = len(fb)\n",
    "m = len(fb.edges())\n",
    "k = int(round(m/n))\n",
    "n, m, k"
   ]
  },
  {
   "cell_type": "markdown",
   "metadata": {},
   "source": [
    "Providing a random seed means we'll get the same graph every time."
   ]
  },
  {
   "cell_type": "code",
   "execution_count": 38,
   "metadata": {},
   "outputs": [],
   "source": [
    "ba = barabasi_albert_graph(n, k, seed=15)"
   ]
  },
  {
   "cell_type": "markdown",
   "metadata": {},
   "source": [
    "The number of edges is pretty close to what we asked for."
   ]
  },
  {
   "cell_type": "code",
   "execution_count": 39,
   "metadata": {},
   "outputs": [
    {
     "data": {
      "text/plain": [
       "(4039, 88374, 21.88016835850458)"
      ]
     },
     "execution_count": 39,
     "metadata": {},
     "output_type": "execute_result"
    }
   ],
   "source": [
    "len(ba), len(ba.edges()), len(ba.edges())/len(ba)"
   ]
  },
  {
   "cell_type": "markdown",
   "metadata": {},
   "source": [
    "So the mean degree is about right."
   ]
  },
  {
   "cell_type": "code",
   "execution_count": 40,
   "metadata": {},
   "outputs": [
    {
     "data": {
      "text/plain": [
       "(43.69101262688784, 43.76033671700916)"
      ]
     },
     "execution_count": 40,
     "metadata": {},
     "output_type": "execute_result"
    }
   ],
   "source": [
    "np.mean(degrees(fb)), np.mean(degrees(ba))"
   ]
  },
  {
   "cell_type": "markdown",
   "metadata": {},
   "source": [
    "The standard deviation of degree is pretty close, and much better than the WS model."
   ]
  },
  {
   "cell_type": "code",
   "execution_count": 41,
   "metadata": {},
   "outputs": [
    {
     "data": {
      "text/plain": [
       "(52.41411556737521, 41.03760075705614)"
      ]
     },
     "execution_count": 41,
     "metadata": {},
     "output_type": "execute_result"
    }
   ],
   "source": [
    "np.std(degrees(fb)), np.std(degrees(ba))"
   ]
  },
  {
   "cell_type": "markdown",
   "metadata": {},
   "source": [
    "Let's take a look at the degree distribution."
   ]
  },
  {
   "cell_type": "code",
   "execution_count": 42,
   "metadata": {},
   "outputs": [],
   "source": [
    "pmf_ba = Pmf.from_seq(degrees(ba))"
   ]
  },
  {
   "cell_type": "markdown",
   "metadata": {},
   "source": [
    "Looking at the PMFs on a linear scale, we see one difference, which is that the BA model has no nodes with degree less than `k`, which is 22."
   ]
  },
  {
   "cell_type": "code",
   "execution_count": 43,
   "metadata": {},
   "outputs": [
    {
     "data": {
      "image/png": "[encoded data removed]",
      "text/plain": [
       "<Figure size 576x288 with 2 Axes>"
      ]
     },
     "metadata": {
      "needs_background": "light"
     },
     "output_type": "display_data"
    }
   ],
   "source": [
    "plt.figure(figsize=(8,4))\n",
    "\n",
    "plt.subplot(1,2,1)\n",
    "pmf_fb.plot(label='Facebook', color='C0')\n",
    "decorate(xlabel='Degree', ylabel='PMF')\n",
    "\n",
    "plt.subplot(1,2,2)\n",
    "pmf_ba.plot(label='BA graph', color='C2')\n",
    "decorate(xlabel='Degree')"
   ]
  },
  {
   "cell_type": "markdown",
   "metadata": {},
   "source": [
    "But if we look at the PMF on a log-log scale, the BA model looks pretty good for values bigger than about 20.  And it seems to follow a power law."
   ]
  },
  {
   "cell_type": "code",
   "execution_count": 44,
   "metadata": {},
   "outputs": [
    {
     "name": "stdout",
     "output_type": "stream",
     "text": [
      "Saving figure to file figs/chap04-3\n"
     ]
    },
    {
     "data": {
      "image/png": "[encoded data removed]",
      "text/plain": [
       "<Figure size 576x288 with 2 Axes>"
      ]
     },
     "metadata": {
      "needs_background": "light"
     },
     "output_type": "display_data"
    }
   ],
   "source": [
    "plt.figure(figsize=(8,4))\n",
    "options = dict(ls='', marker='.')\n",
    "\n",
    "plt.subplot(1,2,1)\n",
    "\n",
    "pmf_fb.plot(label='Facebook', color='C0', **options)\n",
    "decorate(xlabel='Degree', ylabel='PMF',\n",
    "         xscale='log', yscale='log')\n",
    "\n",
    "plt.subplot(1,2,2)\n",
    "\n",
    "pmf_ba.plot(label='BA model', color='C2', **options)\n",
    "decorate(xlabel='Degree',\n",
    "         xlim=[1, 1e4],\n",
    "         xscale='log', yscale='log')\n",
    "\n",
    "savefig('figs/chap04-3')"
   ]
  },
  {
   "cell_type": "markdown",
   "metadata": {},
   "source": [
    "The characteristic path length is even smaller in the model than in the data."
   ]
  },
  {
   "cell_type": "code",
   "execution_count": 45,
   "metadata": {},
   "outputs": [
    {
     "data": {
      "text/plain": [
       "(3.717, 2.481)"
      ]
     },
     "execution_count": 45,
     "metadata": {},
     "output_type": "execute_result"
    }
   ],
   "source": [
    "L, estimate_path_length(ba)"
   ]
  },
  {
   "cell_type": "markdown",
   "metadata": {},
   "source": [
    "But the clustering coefficient isn't even close."
   ]
  },
  {
   "cell_type": "code",
   "execution_count": 46,
   "metadata": {},
   "outputs": [
    {
     "data": {
      "text/plain": [
       "(0.616, 0.048)"
      ]
     },
     "execution_count": 46,
     "metadata": {},
     "output_type": "execute_result"
    }
   ],
   "source": [
    "C, average_clustering(ba)"
   ]
  },
  {
   "cell_type": "markdown",
   "metadata": {},
   "source": [
    "In the BA model, the degree distribution is better than in the WS model, but the clustering coefficient is too low."
   ]
  },
  {
   "cell_type": "markdown",
   "metadata": {},
   "source": [
    "## Cumulative distributions\n",
    "\n",
    "Cumulative distributions are a better way to visualize distributions.  The following function shows what a cumulative probability is:"
   ]
  },
  {
   "cell_type": "code",
   "execution_count": 47,
   "metadata": {},
   "outputs": [],
   "source": [
    "def cumulative_prob(pmf, x):\n",
    "    \"\"\"Computes the cumulative probability of `x`.\n",
    "    \n",
    "    Total probability of all values <= x.\n",
    "    \n",
    "    returns: float probability\n",
    "    \"\"\"\n",
    "    ps = [pmf[value] for value in pmf.qs if value<=x]\n",
    "    return np.sum(ps)"
   ]
  },
  {
   "cell_type": "markdown",
   "metadata": {},
   "source": [
    "The total probability for all values up to and including 11 is 0.258, so the 25th percentile is about 11."
   ]
  },
  {
   "cell_type": "code",
   "execution_count": 48,
   "metadata": {},
   "outputs": [
    {
     "data": {
      "text/plain": [
       "0.2577370636296113"
      ]
     },
     "execution_count": 48,
     "metadata": {},
     "output_type": "execute_result"
    }
   ],
   "source": [
    "cumulative_prob(pmf_fb, 11)"
   ]
  },
  {
   "cell_type": "markdown",
   "metadata": {},
   "source": [
    "The median degree is about 25."
   ]
  },
  {
   "cell_type": "code",
   "execution_count": 49,
   "metadata": {},
   "outputs": [
    {
     "data": {
      "text/plain": [
       "0.5060658578856152"
      ]
     },
     "execution_count": 49,
     "metadata": {},
     "output_type": "execute_result"
    }
   ],
   "source": [
    "cumulative_prob(pmf_fb, 25)"
   ]
  },
  {
   "cell_type": "markdown",
   "metadata": {},
   "source": [
    "And the 75th percentile is about 57.  That is, about 75% of users have 57 friends or fewer."
   ]
  },
  {
   "cell_type": "code",
   "execution_count": 50,
   "metadata": {},
   "outputs": [
    {
     "data": {
      "text/plain": [
       "0.751671205743996"
      ]
     },
     "execution_count": 50,
     "metadata": {},
     "output_type": "execute_result"
    }
   ],
   "source": [
    "cumulative_prob(pmf_fb, 57)"
   ]
  },
  {
   "cell_type": "markdown",
   "metadata": {},
   "source": [
    "`empiricaldist` provides `Cdf`, which computes cumulative distribution functions."
   ]
  },
  {
   "cell_type": "code",
   "execution_count": 51,
   "metadata": {},
   "outputs": [],
   "source": [
    "from empiricaldist import Cdf"
   ]
  },
  {
   "cell_type": "markdown",
   "metadata": {},
   "source": [
    "Here are the degree CDFs for the Facebook data, the WS model, and the BA model."
   ]
  },
  {
   "cell_type": "code",
   "execution_count": 52,
   "metadata": {},
   "outputs": [],
   "source": [
    "cdf_fb = Cdf.from_seq(degrees(fb), name='Facebook')"
   ]
  },
  {
   "cell_type": "code",
   "execution_count": 53,
   "metadata": {},
   "outputs": [],
   "source": [
    "cdf_ws = Cdf.from_seq(degrees(ws), name='WS model')"
   ]
  },
  {
   "cell_type": "code",
   "execution_count": 54,
   "metadata": {},
   "outputs": [],
   "source": [
    "cdf_ba = Cdf.from_seq(degrees(ba), name='BA model')"
   ]
  },
  {
   "cell_type": "markdown",
   "metadata": {},
   "source": [
    "If we plot them on a log-x scale, we get a sense of how well the models fit the central part of the distribution.\n",
    "\n",
    "The WS model is hopeless.  The BA model is ok for values above the median, but not very good for smaller values."
   ]
  },
  {
   "cell_type": "code",
   "execution_count": 55,
   "metadata": {},
   "outputs": [
    {
     "name": "stdout",
     "output_type": "stream",
     "text": [
      "Saving figure to file figs/chap04-4\n"
     ]
    },
    {
     "data": {
      "image/png": "[encoded data removed]",
      "text/plain": [
       "<Figure size 576x288 with 2 Axes>"
      ]
     },
     "metadata": {
      "needs_background": "light"
     },
     "output_type": "display_data"
    }
   ],
   "source": [
    "plt.figure(figsize=(8,4))\n",
    "\n",
    "plt.subplot(1,2,1)\n",
    "cdf_fb.plot(color='C0')\n",
    "cdf_ws.plot(color='C1', alpha=0.4)\n",
    "decorate(xlabel='Degree', xscale='log',\n",
    "                 ylabel='CDF')\n",
    "\n",
    "plt.subplot(1,2,2)\n",
    "cdf_fb.plot(color='C0', label='Facebook')\n",
    "cdf_ba.plot(color='C2', alpha=0.4)\n",
    "decorate(xlabel='Degree', xscale='log')\n",
    "\n",
    "savefig('figs/chap04-4')"
   ]
  },
  {
   "cell_type": "markdown",
   "metadata": {},
   "source": [
    "On a log-log scale, we see that the BA model fits the tail of the distribution reasonably well."
   ]
  },
  {
   "cell_type": "code",
   "execution_count": 56,
   "metadata": {},
   "outputs": [
    {
     "name": "stdout",
     "output_type": "stream",
     "text": [
      "Saving figure to file figs/chap04-5\n"
     ]
    },
    {
     "data": {
      "image/png": "[encoded data removed]",
      "text/plain": [
       "<Figure size 576x288 with 2 Axes>"
      ]
     },
     "metadata": {
      "needs_background": "light"
     },
     "output_type": "display_data"
    }
   ],
   "source": [
    "plt.figure(figsize=(8,4))\n",
    "\n",
    "plt.subplot(1,2,1)\n",
    "(1 - cdf_fb).plot(color='C0')\n",
    "(1 - cdf_ws).plot(color='C1', alpha=0.4)\n",
    "decorate(xlabel='Degree', xscale='log',\n",
    "                 ylabel='CCDF', yscale='log')\n",
    "\n",
    "plt.subplot(1,2,2)\n",
    "\n",
    "(1 - cdf_fb).plot(color='C0', label='Facebook')\n",
    "(1 - cdf_ba).plot(color='C2', alpha=0.4)\n",
    "decorate(xlabel='Degree', xscale='log',\n",
    "                 yscale='log')\n",
    "\n",
    "savefig('figs/chap04-5')"
   ]
  },
  {
   "cell_type": "markdown",
   "metadata": {},
   "source": [
    "But there is certainly room for a model that does a better job of fitting the whole distribution."
   ]
  },
  {
   "cell_type": "markdown",
   "metadata": {},
   "source": [
    "## Exercises"
   ]
  },
  {
   "cell_type": "markdown",
   "metadata": {},
   "source": [
    "**Exercise:** Data files from the Barabasi and Albert paper are available from\n",
    "[this web page](https://web.archive.org/web/20150910025718/http://www3.nd.edu/~networks/resources.htm).\n",
    "\n",
    "Their actor collaboration data is included in the repository for this book in a file named\n",
    "`actor.dat.gz`.  The following function reads the file and builds the graph."
   ]
  },
  {
   "cell_type": "code",
   "execution_count": 57,
   "metadata": {},
   "outputs": [
    {
     "name": "stdout",
     "output_type": "stream",
     "text": [
      "Downloaded actor.dat.gz\n"
     ]
    }
   ],
   "source": [
    "download('https://github.com/AllenDowney/ThinkComplexity2/raw/master/data/actor.dat.gz')"
   ]
  },
  {
   "cell_type": "code",
   "execution_count": 58,
   "metadata": {},
   "outputs": [],
   "source": [
    "import gzip\n",
    "\n",
    "def read_actor_network(filename, n=None):\n",
    "    \"\"\"Reads graph data from a file.\n",
    "    \n",
    "    filename: string\n",
    "    n: int, number of lines to read (default is all)\n",
    "    \"\"\"\n",
    "    G = nx.Graph()\n",
    "    with gzip.open(filename) as f:\n",
    "        for i, line in enumerate(f):\n",
    "            nodes = [int(x) for x in line.split()]\n",
    "            G.add_edges_from(all_pairs(nodes))\n",
    "            if n and i >= n:\n",
    "                break\n",
    "    return G"
   ]
  },
  {
   "cell_type": "code",
   "execution_count": 59,
   "metadata": {},
   "outputs": [],
   "source": [
    "def all_pairs(nodes):\n",
    "    \"\"\"Generates all pairs of nodes.\"\"\"\n",
    "    for i, u in enumerate(nodes):\n",
    "        for j, v in enumerate(nodes):\n",
    "            if i < j:\n",
    "                yield u, v"
   ]
  },
  {
   "cell_type": "markdown",
   "metadata": {},
   "source": [
    "Compute the number of actors in the graph and the number of edges.\n",
    "\n",
    "Check whether this graph has the small world properties, high clustering and low\n",
    "path length.\n",
    "\n",
    "Plot the PMF of degree on a log-log scale.  Does it seem to follow a power law?\n",
    "\n",
    "Also plot the CDF of degree on a log-x scale, to \n",
    "see the general shape of the distribution, and on a log-log scale, to see whether \n",
    "the tail follows a power law.\n",
    "\n",
    "Note: The actor network is not connected, so you might want to use\n",
    "`nx.connected_components` to find connected subsets of the\n",
    "nodes."
   ]
  },
  {
   "cell_type": "code",
   "execution_count": 60,
   "metadata": {},
   "outputs": [
    {
     "name": "stdout",
     "output_type": "stream",
     "text": [
      "CPU times: user 579 ms, sys: 16.1 ms, total: 595 ms\n",
      "Wall time: 594 ms\n"
     ]
    },
    {
     "data": {
      "text/plain": [
       "17540"
      ]
     },
     "execution_count": 60,
     "metadata": {},
     "output_type": "execute_result"
    }
   ],
   "source": [
    "# WARNING: if you run this with larger values of `n`, you\n",
    "# might run out of memory, and Jupyter does not handle that well.\n",
    "\n",
    "%time actors = read_actor_network('actor.dat.gz', n=10000)\n",
    "len(actors)"
   ]
  },
  {
   "cell_type": "code",
   "execution_count": 73,
   "metadata": {},
   "outputs": [
    {
     "name": "stdout",
     "output_type": "stream",
     "text": [
      "The number of nodes is 17540, and the number of edges is 336377\n"
     ]
    }
   ],
   "source": [
    "# Number of nodes and edges:\n",
    "print(\"The number of nodes is {0}, and the number of edges is {1}\".format(len(actors), len(actors.edges())))"
   ]
  },
  {
   "cell_type": "code",
   "execution_count": 74,
   "metadata": {},
   "outputs": [
    {
     "name": "stdout",
     "output_type": "stream",
     "text": [
      "The average clustering for the Actors dataset is 0.718; the average shortest path length is 3.5144329896907216\n"
     ]
    }
   ],
   "source": [
    "# Average clustering coefficient and shortest path length\n",
    "print(\"The average clustering coefficient for the Actor dataset is {0}; the average shortest path length is {1}\"\n",
    "      .format(average_clustering(actors), estimate_path_length(actors)))"
   ]
  },
  {
   "cell_type": "code",
   "execution_count": 75,
   "metadata": {},
   "outputs": [
    {
     "name": "stdout",
     "output_type": "stream",
     "text": [
      "Saving figure to file figs/chap04-E1\n"
     ]
    },
    {
     "data": {
      "image/png": "[encoded data removed]",
      "text/plain": [
       "<Figure size 432x288 with 1 Axes>"
      ]
     },
     "metadata": {
      "needs_background": "light"
     },
     "output_type": "display_data"
    }
   ],
   "source": [
    "# PMF of degree on log-log scale\n",
    "pmf_actors = Pmf.from_seq(degrees(actors))\n",
    "\n",
    "pmf_actors.plot(label='Actor', color='C9', **options)\n",
    "decorate(xlabel='Degree', ylabel='PMF',\n",
    "         xscale='log', yscale='log')\n",
    "\n",
    "savefig('figs/chap04-E1_pmf')"
   ]
  },
  {
   "cell_type": "code",
   "execution_count": 82,
   "metadata": {},
   "outputs": [
    {
     "name": "stdout",
     "output_type": "stream",
     "text": [
      "Saving figure to file figs/chap04-E2_cdf\n"
     ]
    },
    {
     "data": {
      "image/png": "[encoded data removed]",
      "text/plain": [
       "<Figure size 1728x576 with 3 Axes>"
      ]
     },
     "metadata": {
      "needs_background": "light"
     },
     "output_type": "display_data"
    }
   ],
   "source": [
    "cdf_actors = Cdf.from_seq(degrees(actors))\n",
    "\n",
    "plt.figure(figsize=(24,8))\n",
    "options = dict(ls='', marker='.')\n",
    "\n",
    "plt.subplot(1,3,1)\n",
    "\n",
    "cdf_actors.plot(color='C7', **options)\n",
    "decorate(xlabel='Degree', ylabel='CDF', xscale='log')\n",
    "\n",
    "plt.subplot(1,3,2)\n",
    "\n",
    "cdf_actors.plot(color='C9', **options)\n",
    "decorate(xlabel='Degree', xscale='log', yscale='log')\n",
    "\n",
    "plt.subplot(1,3,3)\n",
    "\n",
    "(1 - cdf_actors).plot(color='C8')\n",
    "decorate(xlabel='Degree', xscale='log',\n",
    "                 yscale='log')\n",
    "\n",
    "\n",
    "savefig('figs/chap04-E2_cdf')"
   ]
  },
  {
   "cell_type": "markdown",
   "metadata": {},
   "source": [
    "**Exercise:** NetworkX provides a function called `powerlaw_cluster_graph` that implements the \"Holme and Kim algorithm for growing graphs with powerlaw degree distribution and approximate average clustering\".  Read the documentation of this function and see if you can use it to generate a graph that has the same number of nodes as the Facebook network, the same average degree, and the same clustering coefficient.  How does the degree distribution in the model compare to the actual distribution?"
   ]
  },
  {
   "cell_type": "code",
   "execution_count": 61,
   "metadata": {},
   "outputs": [
    {
     "data": {
      "text/plain": [
       "(4039, 88234, 22)"
      ]
     },
     "execution_count": 61,
     "metadata": {},
     "output_type": "execute_result"
    }
   ],
   "source": [
    "# Again, here are the parameters of the Facebook data\n",
    "\n",
    "n = len(fb)\n",
    "m = len(fb.edges())\n",
    "k = int(round(m / n))\n",
    "n, m, k"
   ]
  },
  {
   "cell_type": "code",
   "execution_count": null,
   "metadata": {},
   "outputs": [],
   "source": []
  },
  {
   "cell_type": "code",
   "execution_count": null,
   "metadata": {},
   "outputs": [],
   "source": []
  },
  {
   "cell_type": "code",
   "execution_count": null,
   "metadata": {},
   "outputs": [],
   "source": []
  },
  {
   "cell_type": "code",
   "execution_count": null,
   "metadata": {},
   "outputs": [],
   "source": []
  },
  {
   "cell_type": "code",
   "execution_count": null,
   "metadata": {},
   "outputs": [],
   "source": []
  },
  {
   "cell_type": "code",
   "execution_count": null,
   "metadata": {},
   "outputs": [],
   "source": []
  },
  {
   "cell_type": "code",
   "execution_count": null,
   "metadata": {},
   "outputs": [],
   "source": []
  },
  {
   "cell_type": "code",
   "execution_count": null,
   "metadata": {},
   "outputs": [],
   "source": []
  },
  {
   "cell_type": "code",
   "execution_count": null,
   "metadata": {},
   "outputs": [],
   "source": []
  }
 ],
 "metadata": {
  "kernelspec": {
   "display_name": "Python 3",
   "language": "python",
   "name": "python3"
  },
  "language_info": {
   "codemirror_mode": {
    "name": "ipython",
    "version": 3
   },
   "file_extension": ".py",
   "mimetype": "text/x-python",
   "name": "python",
   "nbconvert_exporter": "python",
   "pygments_lexer": "ipython3",
   "version": "3.8.8"
  }
 },
 "nbformat": 4,
 "nbformat_minor": 1
}
